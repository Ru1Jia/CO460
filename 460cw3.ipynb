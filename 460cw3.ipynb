{
  "nbformat": 4,
  "nbformat_minor": 0,
  "metadata": {
    "colab": {
      "name": "460cw3.ipynb",
      "version": "0.3.2",
      "provenance": [],
      "collapsed_sections": [],
      "toc_visible": true,
      "include_colab_link": true
    },
    "kernelspec": {
      "name": "python3",
      "display_name": "Python 3"
    },
    "accelerator": "GPU"
  },
  "cells": [
    {
      "cell_type": "markdown",
      "metadata": {
        "id": "view-in-github",
        "colab_type": "text"
      },
      "source": [
        "<a href=\"https://colab.research.google.com/github/Ru1Jia/CO460/blob/master/460cw3.ipynb\" target=\"_parent\"><img src=\"https://colab.research.google.com/assets/colab-badge.svg\" alt=\"Open In Colab\"/></a>"
      ]
    },
    {
      "metadata": {
        "id": "HmfypRI5seym",
        "colab_type": "text"
      },
      "cell_type": "markdown",
      "source": [
        "# Coursework 3: Generative Models\n",
        "\n",
        "#### Instructions\n",
        "\n",
        "Please submit on CATe a zip file named *CW3.zip* containing the following:\n",
        "1. A version of this notebook containing your answers. Write your answers in the cells below each question.\n",
        "2. Your trained models as *CAE_model.pth, DCGAN_model_D.pth, DCGAN_model_G.pth*\n",
        "3. You training losses as *train_losses_CAE.npy*, *train_losses_D.npy*, *train_losses_G.npy*\n",
        "\n",
        "#### Working environment:\n",
        "\n",
        "Similarly to the previous coursework, we recommend that you use Google Colaboratory in order to train the required networks.\n",
        "\n",
        "**The deadline for submission is 19:00, Thursday 28th February, 2019**"
      ]
    },
    {
      "metadata": {
        "id": "yReYqzNDseyo",
        "colab_type": "text"
      },
      "cell_type": "markdown",
      "source": [
        "## Introduction\n",
        "\n",
        "For this coursework you are asked to implement two commonly used generative models:\n",
        "1. A **Convolutional Autoencoder (CAE)**\n",
        "2. A **Deep Convolutional Generative Adversarial Network (DCGAN)**\n",
        "\n",
        "The dataset you will be using is the CIFAR-10 (https://www.cs.toronto.edu/~kriz/cifar.html).\n",
        "\n",
        "## Part 1 (50 points)\n",
        "\n",
        "1. For the CAE, the success of your models will be tested as follows:\n",
        "    - **By the autoencoders' reconstruction error**. You will need to achieve a low enough error in order to reconstruct the images of the dataset with relatively high fidelity. You will have to provide us with your best model's training loss curve, reconstruction error on the test set and some reconstructed images in the respective cells.\n",
        "    - **By the representation learning capabilities of your model**. In particular, autoencoders are known to be able to learn quite informative features in their latent space (embeddings) that can later be used for downstream tasks. In this coursework you are asked to use the representations that your pre-trained encoder yields in order to do image classification. You can use your favourite classification module on top of the features in order to solve the problem *(Hint: a simple Support Vector Machine - SVM - is acceptable. Alternatively, you can devise more complex models such as a Multilayer Fully Connected Network)*.\n",
        " \n",
        "## Part 2 (50 points)\n",
        "2. For the DCGAN, The success of your models will be tested as follows:\n",
        "    - **By the model's training error**. You will need to achieve relatively balanced errors for the generator and the discriminator of your model in order to sample realistic images from the generator. You will have to provide us with your best model's training losses curves, a discussion on how you concluded to the chosen architecture, and visualizations of generated samples in the respective cells. Your results do not have to be perfect, however a good discussion on the choice of architecture will be valued.\n",
        "    - **By avoiding mode collapse**. A common problem of training GANs is that they end up generating only a few different samples (if not only one), rather than learning the whole distribution of the training data. This problem is referred to as mode collapse. You will need to make a discussion on whether you noticed mode collapse or not during your experimentation and if yes, how you addressed it.\n"
      ]
    },
    {
      "metadata": {
        "colab_type": "code",
        "id": "uFEt7wGXP_aE",
        "colab": {}
      },
      "cell_type": "code",
      "source": [
        "import os\n",
        "import numpy as np\n",
        "import torch\n",
        "import torch.nn as nn\n",
        "from torch.utils.data import DataLoader\n",
        "from torch.utils.data import sampler\n",
        "from torchvision import datasets, transforms\n",
        "from torchvision.utils import save_image, make_grid\n",
        "import torch.nn.functional as F\n",
        "import matplotlib.pyplot as plt\n",
        "\n",
        "\n",
        "def denorm(x, channels=None, w=None ,h=None, resize = False):\n",
        "    x = 0.5 * (x + 1)\n",
        "    x = x.clamp(0, 1)\n",
        "    if resize:\n",
        "        if channels is None or w is None or h is None:\n",
        "            print('Number of channels, width and height must be provided for resize.')\n",
        "        x = x.view(x.size(0), channels, w, h)\n",
        "    return x\n",
        "\n",
        "def show(img):\n",
        "    if torch.cuda.is_available():\n",
        "        img = img.cpu()\n",
        "    npimg = img.numpy()\n",
        "    plt.imshow(np.transpose(npimg, (1,2,0)))\n"
      ],
      "execution_count": 0,
      "outputs": []
    },
    {
      "metadata": {
        "colab_type": "text",
        "id": "Q7chG5g8RmXb"
      },
      "cell_type": "markdown",
      "source": [
        "### Device Selection"
      ]
    },
    {
      "metadata": {
        "colab_type": "code",
        "id": "zi6L64YuQsLS",
        "outputId": "75849987-6cdd-4dd8-86d2-4be7c97c1e92",
        "colab": {
          "base_uri": "https://localhost:8080/",
          "height": 34
        }
      },
      "cell_type": "code",
      "source": [
        "GPU = True\n",
        "device_idx = 1\n",
        "if GPU:\n",
        "    device = torch.device(\"cuda:\" + str(device_idx) if torch.cuda.is_available() else \"cpu\")\n",
        "else:\n",
        "    device = torch.device(\"cpu\")\n",
        "print(device)"
      ],
      "execution_count": 2,
      "outputs": [
        {
          "output_type": "stream",
          "text": [
            "cuda:1\n"
          ],
          "name": "stdout"
        }
      ]
    },
    {
      "metadata": {
        "id": "MdB0FLTCsey2",
        "colab_type": "text"
      },
      "cell_type": "markdown",
      "source": [
        "### Reproducibility"
      ]
    },
    {
      "metadata": {
        "scrolled": true,
        "id": "ZvJNc9qhsey3",
        "colab_type": "code",
        "outputId": "e2b57988-6356-4f7c-e89f-f22fcba42216",
        "colab": {
          "base_uri": "https://localhost:8080/",
          "height": 34
        }
      },
      "cell_type": "code",
      "source": [
        "# We set a random seed to ensure that your results are reproducible.\n",
        "if torch.cuda.is_available():\n",
        "    torch.backends.cudnn.deterministic = True\n",
        "torch.manual_seed(0)"
      ],
      "execution_count": 3,
      "outputs": [
        {
          "output_type": "execute_result",
          "data": {
            "text/plain": [
              "<torch._C.Generator at 0x7f98dca29510>"
            ]
          },
          "metadata": {
            "tags": []
          },
          "execution_count": 3
        }
      ]
    },
    {
      "metadata": {
        "id": "3peoBo4Nsey7",
        "colab_type": "text"
      },
      "cell_type": "markdown",
      "source": [
        "### Data loading"
      ]
    },
    {
      "metadata": {
        "id": "jYKSuYmFsey9",
        "colab_type": "code",
        "outputId": "a2113fbb-4dec-449e-869e-ece81ce3f7a3",
        "colab": {
          "base_uri": "https://localhost:8080/",
          "height": 68
        }
      },
      "cell_type": "code",
      "source": [
        "batch_size = 128\n",
        "\n",
        "if not os.path.exists('./CW/CAE'):\n",
        "    os.makedirs('./CW/CAE')\n",
        "if not os.path.exists('./CW/DCGAN'):\n",
        "    os.makedirs('./CW/DCGAN')\n",
        "\n",
        "\n",
        "NUM_TRAIN = 49000\n",
        "\n",
        "transform = transforms.Compose([\n",
        "     transforms.ToTensor(),\n",
        "     transforms.Normalize(mean=(0.5, 0.5, 0.5), std=(0.5, 0.5, 0.5))\n",
        "])\n",
        "\n",
        "\n",
        "data_dir = './datasets'\n",
        "cifar10_train = datasets.CIFAR10(data_dir, train=True, download=True,\n",
        "                             transform=transform)\n",
        "cifar10_val = datasets.CIFAR10(data_dir, train=True, download=True,\n",
        "                           transform=transform)\n",
        "cifar10_test = datasets.CIFAR10(data_dir, train=False, download=True, \n",
        "                            transform=transform)\n",
        "\n",
        "loader_train = DataLoader(cifar10_train, batch_size=batch_size, \n",
        "                          sampler=sampler.SubsetRandomSampler(range(NUM_TRAIN)))\n",
        "loader_val = DataLoader(cifar10_val, batch_size=batch_size, \n",
        "                        sampler=sampler.SubsetRandomSampler(range(NUM_TRAIN, 50000)))\n",
        "loader_test = DataLoader(cifar10_test, batch_size=batch_size)\n",
        "\n",
        "it = iter(loader_test)\n",
        "sample_inputs, _ = next(it)\n",
        "fixed_input = sample_inputs[0:32, :, :, :]\n",
        "save_image(denorm(fixed_input), './CW/CAE/input_sample.png')"
      ],
      "execution_count": 5,
      "outputs": [
        {
          "output_type": "stream",
          "text": [
            "Files already downloaded and verified\n",
            "Files already downloaded and verified\n",
            "Files already downloaded and verified\n"
          ],
          "name": "stdout"
        }
      ]
    },
    {
      "metadata": {
        "id": "1gmwi5TZsezA",
        "colab_type": "text"
      },
      "cell_type": "markdown",
      "source": [
        "## Part 1 - Convolutional Autoencoder"
      ]
    },
    {
      "metadata": {
        "id": "jZes5uVVsezB",
        "colab_type": "text"
      },
      "cell_type": "markdown",
      "source": [
        "### Part 1.1 (30 points)\n",
        "**Your Task**: \n",
        "\n",
        "a. Implement the CAE architecture. Fill in the missing parts in the cells below in order to complete the CAE class. You will need to define:\n",
        "\n",
        "- The hyperparameters\n",
        "- The constructor\n",
        "- `encode`\n",
        "- `decode`\n",
        "\n",
        "b. Plot your training loss curve (x-axis: epochs, y-axis: loss)\n",
        "\n",
        "c. Calculate the reconstruction error on your test set\n",
        "\n",
        "d. Visualize a subset of the images of the test set and their reconstructions\n",
        "\n",
        "For b., c. and d. the code is already given. Make sure that the version of the notebook you deliver includes these results. \n",
        "\n",
        "Some reccomendations:\n",
        "- add several convolutional layers (3-4).\n",
        "- accelerate training with batch normalization after every convolutional layer or fully connected layer.\n",
        "- use the appropriate activation functions. \n",
        "- Encoder module: hierarchially downsample your images with pooling layers, or strided convolutions.\n",
        "- Decoder module: the upsampling can be done with various methods, such as nearest neighbor upsampling (`torch.nn.Upsample`) or transposed convolutions(`torch.nn.ConvTranspose2d`). \n",
        "\n",
        "Try to follow the common practices for CNNs (e.g small receptive fields, max pooling, RELU activations), in order to narrow down your possible choices. **You will need to choose sufficiently large size for your latent vectors (hidden_size variable), in order to allow enough capacity for your network to represent the data.**\n",
        "\n",
        "The number of epochs that will be needed in order to train the network will vary depending on your choices. In most of the cases, it will be a long procedure (a few hours), so you can leave your notebook running until the training converges.  You don't need to train the network to an extreme if you don't have the time. As an advice, we recommend that while experimenting you should allow around 20 epochs and if the loss doesn't sufficiently drop, restart the training with a more powerful architecture."
      ]
    },
    {
      "metadata": {
        "id": "vzLeG-ypsezC",
        "colab_type": "text"
      },
      "cell_type": "markdown",
      "source": [
        "### Hyper-parameter selection"
      ]
    },
    {
      "metadata": {
        "id": "yBfdQMebsezD",
        "colab_type": "code",
        "colab": {}
      },
      "cell_type": "code",
      "source": [
        "# *CODE FOR PART 1.1 IN THIS CELL*\n",
        "\n",
        "### Choose the number of epochs and the learning rate.\n",
        "num_epochs = 5\n",
        "batch_size = 128\n",
        "learning_rate = 0.001\n",
        "latent_dim = 32\n",
        "###\n",
        "\n",
        "# Define here other hyperparameters that you used.\n"
      ],
      "execution_count": 0,
      "outputs": []
    },
    {
      "metadata": {
        "id": "QAidrLODsezF",
        "colab_type": "text"
      },
      "cell_type": "markdown",
      "source": [
        "### Define model"
      ]
    },
    {
      "metadata": {
        "id": "OS0Wc5ynsezG",
        "colab_type": "code",
        "colab": {}
      },
      "cell_type": "code",
      "source": [
        "# *CODE FOR PART 1.1 IN THIS CELL*\n",
        "\n",
        "### Choose a value for the latent space dimension and use it in your model\n",
        "hidden_size = 1024\n",
        "###\n",
        "\n",
        "class CAE(nn.Module):\n",
        "    def __init__(self):\n",
        "        super(CAE, self).__init__()\n",
        "        # encoder\n",
        "        self.encoder = nn.Sequential(\n",
        "            nn.Conv2d(in_channels=3, out_channels=128, kernel_size=4, stride=2, padding=0),\n",
        "            nn.BatchNorm2d(128),\n",
        "            nn.ReLU(True),\n",
        "            nn.Conv2d(in_channels=128, out_channels=256, kernel_size=3, stride=2, padding=0),\n",
        "            nn.BatchNorm2d(256),\n",
        "            nn.ReLU(True),\n",
        "            nn.Conv2d(in_channels=256, out_channels=256, kernel_size=3, stride=2, padding=0),\n",
        "        )\n",
        "        # decoder\n",
        "        self.decoder = nn.Sequential(\n",
        "            nn.ConvTranspose2d(in_channels=256, out_channels=256, kernel_size=3, stride=2, padding=0),        \n",
        "            nn.BatchNorm2d(256),\n",
        "            nn.ReLU(True),\n",
        "            nn.ConvTranspose2d(in_channels=256, out_channels=128, kernel_size=3, stride=2, padding=0),\n",
        "            nn.BatchNorm2d(128),\n",
        "            nn.ReLU(True),\n",
        "            nn.ConvTranspose2d(in_channels=128, out_channels=3, kernel_size=4, stride=2, padding=0),\n",
        "            nn.Tanh(),\n",
        "        )\n",
        "        # relu\n",
        "        self.relu = nn.ReLU(True)\n",
        "\n",
        "        self.fc1 = nn.Linear(in_features=2304, out_features=1024)\n",
        "        self.fc2 = nn.Linear(in_features=1024, out_features=2304)\n",
        "\n",
        "        #######################################################################\n",
        "        #                       ** END OF YOUR CODE **\n",
        "        #######################################################################\n",
        "\n",
        "    def encode(self, x):\n",
        "        #######################################################################\n",
        "        #                       ** START OF YOUR CODE **\n",
        "        #######################################################################\n",
        "        \n",
        "        x = self.encoder(x)\n",
        "        #print(x.shape)\n",
        "        x = x.view(x.size(0), -1)\n",
        "        x = self.fc1(x)\n",
        "        return x\n",
        "        #######################################################################\n",
        "        #                       ** END OF YOUR CODE **\n",
        "        #######################################################################\n",
        "\n",
        "    def decode(self, z):\n",
        "        #######################################################################\n",
        "        #                       ** START OF YOUR CODE **\n",
        "        #######################################################################\n",
        "        z = self.fc2(z)\n",
        "        z = z.view(z.size(0),256,3,3)\n",
        "        #print(z.shape)\n",
        "        z = self.decoder(z)\n",
        "        return z\n",
        "        #######################################################################\n",
        "        #                       ** END OF YOUR CODE **\n",
        "        #######################################################################\n",
        "\n",
        "    def forward(self, x):\n",
        "        z = self.encode(x)\n",
        "        recon = self.decode(z)\n",
        "        return recon"
      ],
      "execution_count": 0,
      "outputs": []
    },
    {
      "metadata": {
        "id": "lHI8CjtLsezI",
        "colab_type": "text"
      },
      "cell_type": "markdown",
      "source": [
        "### Define Loss function"
      ]
    },
    {
      "metadata": {
        "id": "Z3eIAd7ksezI",
        "colab_type": "code",
        "colab": {}
      },
      "cell_type": "code",
      "source": [
        "criterion = nn.MSELoss(reduction='mean')  # can we use any other loss here? You are free to choose.\n",
        "def loss_function_CAE(recon_x, x):\n",
        "    recon_loss = criterion(recon_x, x)\n",
        "    return recon_loss"
      ],
      "execution_count": 0,
      "outputs": []
    },
    {
      "metadata": {
        "id": "O90rWL9psezM",
        "colab_type": "text"
      },
      "cell_type": "markdown",
      "source": [
        "### Initialize Model and print number of parameters"
      ]
    },
    {
      "metadata": {
        "id": "B0301mhXsezN",
        "colab_type": "code",
        "colab": {
          "base_uri": "https://localhost:8080/",
          "height": 442
        },
        "outputId": "4524c1ef-0355-46e6-e44c-dfcf7be52be4"
      },
      "cell_type": "code",
      "source": [
        "model = CAE().to(device='cuda')\n",
        "params = sum(p.numel() for p in model.parameters() if p.requires_grad)\n",
        "print(\"Total number of parameters is: {}\".format(params))\n",
        "print(model)"
      ],
      "execution_count": 18,
      "outputs": [
        {
          "output_type": "stream",
          "text": [
            "Total number of parameters is: 6506243\n",
            "CAE(\n",
            "  (encoder): Sequential(\n",
            "    (0): Conv2d(3, 128, kernel_size=(4, 4), stride=(2, 2))\n",
            "    (1): BatchNorm2d(128, eps=1e-05, momentum=0.1, affine=True, track_running_stats=True)\n",
            "    (2): ReLU(inplace)\n",
            "    (3): Conv2d(128, 256, kernel_size=(3, 3), stride=(2, 2))\n",
            "    (4): BatchNorm2d(256, eps=1e-05, momentum=0.1, affine=True, track_running_stats=True)\n",
            "    (5): ReLU(inplace)\n",
            "    (6): Conv2d(256, 256, kernel_size=(3, 3), stride=(2, 2))\n",
            "  )\n",
            "  (decoder): Sequential(\n",
            "    (0): ConvTranspose2d(256, 256, kernel_size=(3, 3), stride=(2, 2))\n",
            "    (1): BatchNorm2d(256, eps=1e-05, momentum=0.1, affine=True, track_running_stats=True)\n",
            "    (2): ReLU(inplace)\n",
            "    (3): ConvTranspose2d(256, 128, kernel_size=(3, 3), stride=(2, 2))\n",
            "    (4): BatchNorm2d(128, eps=1e-05, momentum=0.1, affine=True, track_running_stats=True)\n",
            "    (5): ReLU(inplace)\n",
            "    (6): ConvTranspose2d(128, 3, kernel_size=(4, 4), stride=(2, 2))\n",
            "    (7): Tanh()\n",
            "  )\n",
            "  (relu): ReLU(inplace)\n",
            "  (fc1): Linear(in_features=2304, out_features=1024, bias=True)\n",
            "  (fc2): Linear(in_features=1024, out_features=2304, bias=True)\n",
            ")\n"
          ],
          "name": "stdout"
        }
      ]
    },
    {
      "metadata": {
        "id": "94FoK6-vsezP",
        "colab_type": "text"
      },
      "cell_type": "markdown",
      "source": [
        "### Choose and initialize optimizer"
      ]
    },
    {
      "metadata": {
        "id": "gEdPxWPLsezQ",
        "colab_type": "code",
        "colab": {}
      },
      "cell_type": "code",
      "source": [
        "# You are free to add a scheduler or change the optimizer if you want. We chose one for you for simplicity.\n",
        "optimizer = torch.optim.Adam(model.parameters(), lr=learning_rate)"
      ],
      "execution_count": 0,
      "outputs": []
    },
    {
      "metadata": {
        "id": "V-FlszlOsezR",
        "colab_type": "text"
      },
      "cell_type": "markdown",
      "source": [
        "### Train"
      ]
    },
    {
      "metadata": {
        "id": "GaK7adN7sezT",
        "colab_type": "code",
        "colab": {
          "base_uri": "https://localhost:8080/",
          "height": 102
        },
        "outputId": "be3ca1a1-22dd-4ad6-f041-cb65f8684700"
      },
      "cell_type": "code",
      "source": [
        "train_losses = []\n",
        "model.train()\n",
        "for epoch in range(num_epochs):\n",
        "    train_loss = 0\n",
        "    for batch_idx, data in enumerate(loader_train):\n",
        "        img, _ = data\n",
        "        img = img.to(device='cuda')\n",
        "        optimizer.zero_grad()\n",
        "        # forward\n",
        "        recon_batch = model(img)\n",
        "        loss = loss_function_CAE(recon_batch, img)\n",
        "        # backward\n",
        "        loss.backward()\n",
        "        train_loss += loss.item()\n",
        "        optimizer.step()\n",
        "    # print out losses and save reconstructions for every epoch\n",
        "    print('epoch [{}/{}], loss:{:.4f}'\n",
        "          .format(epoch + 1, num_epochs, train_loss / len(loader_train)))\n",
        "    recon = model(fixed_input.to(device='cuda'))\n",
        "    recon = denorm(recon.cpu())\n",
        "    save_image(recon, './CW/CAE/reconstructed_epoch_{}.png'.format(epoch))\n",
        "    train_losses.append(train_loss/ len(loader_train))\n",
        "\n",
        "# save the model and the loss values\n",
        "np.save('./CW/CAE/train_losses.npy', np.array(train_losses))\n",
        "torch.save(model.state_dict(), './CW/CAE/CAE_model.pth')"
      ],
      "execution_count": 20,
      "outputs": [
        {
          "output_type": "stream",
          "text": [
            "epoch [1/5], loss:0.0758\n",
            "epoch [2/5], loss:0.0324\n",
            "epoch [3/5], loss:0.0230\n",
            "epoch [4/5], loss:0.0186\n",
            "epoch [5/5], loss:0.0159\n"
          ],
          "name": "stdout"
        }
      ]
    },
    {
      "metadata": {
        "id": "KLT7hyibsezU",
        "colab_type": "text"
      },
      "cell_type": "markdown",
      "source": [
        "### Train loss curve"
      ]
    },
    {
      "metadata": {
        "id": "Qa-CRHexsezV",
        "colab_type": "code",
        "colab": {
          "base_uri": "https://localhost:8080/",
          "height": 362
        },
        "outputId": "bd75fa7f-77dc-49d0-bc9f-c1db8264725e"
      },
      "cell_type": "code",
      "source": [
        "import matplotlib.pyplot as plt\n",
        "train_losses = np.load('./CW/CAE/train_losses.npy')\n",
        "plt.plot(list(range(0,train_losses.shape[0])), train_losses)\n",
        "plt.title('Train Loss')\n",
        "plt.show()"
      ],
      "execution_count": 27,
      "outputs": [
        {
          "output_type": "display_data",
          "data": {
            "image/png": "[encoded data removed]",
            "text/plain": [
              "<Figure size 576x396 with 1 Axes>"
            ]
          },
          "metadata": {
            "tags": []
          }
        }
      ]
    },
    {
      "metadata": {
        "id": "qgGuhNzZsezX",
        "colab_type": "text"
      },
      "cell_type": "markdown",
      "source": [
        "### Test set reconstruction error"
      ]
    },
    {
      "metadata": {
        "id": "tw71cISNsezY",
        "colab_type": "code",
        "colab": {
          "base_uri": "https://localhost:8080/",
          "height": 408
        },
        "outputId": "85dcd894-3e5e-48a8-b275-4375604eb853"
      },
      "cell_type": "code",
      "source": [
        "# load the model\n",
        "model.load_state_dict(torch.load('./CW/CAE/model.pth'))\n",
        "model.eval()\n",
        "test_loss = 0\n",
        "with torch.no_grad():\n",
        "    for i, data in enumerate(loader_test):\n",
        "        img,_ = data\n",
        "        img = img.to(device)\n",
        "        recon_batch = model(img)\n",
        "        test_loss += loss_function_CAE(recon_batch, img)\n",
        "    # loss calculated over the whole test set\n",
        "    test_loss /= len(loader_test.dataset)\n",
        "    print('Test set loss: {:.4f}'.format(test_loss))"
      ],
      "execution_count": 30,
      "outputs": [
        {
          "output_type": "error",
          "ename": "RuntimeError",
          "evalue": "ignored",
          "traceback": [
            "\u001b[0;31m---------------------------------------------------------------------------\u001b[0m",
            "\u001b[0;31mRuntimeError\u001b[0m                              Traceback (most recent call last)",
            "\u001b[0;32m<ipython-input-30-ff0138bada00>\u001b[0m in \u001b[0;36m<module>\u001b[0;34m()\u001b[0m\n\u001b[0;32m----> 1\u001b[0;31m \u001b[0mmodel\u001b[0m\u001b[0;34m.\u001b[0m\u001b[0mload_state_dict\u001b[0m\u001b[0;34m(\u001b[0m\u001b[0mtorch\u001b[0m\u001b[0;34m.\u001b[0m\u001b[0mload\u001b[0m\u001b[0;34m(\u001b[0m\u001b[0;34m'./CW/CAE/CAE_model.pth'\u001b[0m\u001b[0;34m)\u001b[0m\u001b[0;34m)\u001b[0m\u001b[0;34m\u001b[0m\u001b[0;34m\u001b[0m\u001b[0m\n\u001b[0m\u001b[1;32m      2\u001b[0m \u001b[0mmodel\u001b[0m\u001b[0;34m.\u001b[0m\u001b[0meval\u001b[0m\u001b[0;34m(\u001b[0m\u001b[0;34m)\u001b[0m\u001b[0;34m\u001b[0m\u001b[0;34m\u001b[0m\u001b[0m\n\u001b[1;32m      3\u001b[0m \u001b[0mtest_loss\u001b[0m \u001b[0;34m=\u001b[0m \u001b[0;36m0\u001b[0m\u001b[0;34m\u001b[0m\u001b[0;34m\u001b[0m\u001b[0m\n\u001b[1;32m      4\u001b[0m \u001b[0;32mwith\u001b[0m \u001b[0mtorch\u001b[0m\u001b[0;34m.\u001b[0m\u001b[0mno_grad\u001b[0m\u001b[0;34m(\u001b[0m\u001b[0;34m)\u001b[0m\u001b[0;34m:\u001b[0m\u001b[0;34m\u001b[0m\u001b[0;34m\u001b[0m\u001b[0m\n\u001b[1;32m      5\u001b[0m     \u001b[0;32mfor\u001b[0m \u001b[0mi\u001b[0m\u001b[0;34m,\u001b[0m \u001b[0mdata\u001b[0m \u001b[0;32min\u001b[0m \u001b[0menumerate\u001b[0m\u001b[0;34m(\u001b[0m\u001b[0mloader_test\u001b[0m\u001b[0;34m)\u001b[0m\u001b[0;34m:\u001b[0m\u001b[0;34m\u001b[0m\u001b[0;34m\u001b[0m\u001b[0m\n",
            "\u001b[0;32m/usr/local/lib/python3.6/dist-packages/torch/nn/modules/module.py\u001b[0m in \u001b[0;36mload_state_dict\u001b[0;34m(self, state_dict, strict)\u001b[0m\n\u001b[1;32m    767\u001b[0m         \u001b[0;32mif\u001b[0m \u001b[0mlen\u001b[0m\u001b[0;34m(\u001b[0m\u001b[0merror_msgs\u001b[0m\u001b[0;34m)\u001b[0m \u001b[0;34m>\u001b[0m \u001b[0;36m0\u001b[0m\u001b[0;34m:\u001b[0m\u001b[0;34m\u001b[0m\u001b[0;34m\u001b[0m\u001b[0m\n\u001b[1;32m    768\u001b[0m             raise RuntimeError('Error(s) in loading state_dict for {}:\\n\\t{}'.format(\n\u001b[0;32m--> 769\u001b[0;31m                                self.__class__.__name__, \"\\n\\t\".join(error_msgs)))\n\u001b[0m\u001b[1;32m    770\u001b[0m \u001b[0;34m\u001b[0m\u001b[0m\n\u001b[1;32m    771\u001b[0m     \u001b[0;32mdef\u001b[0m \u001b[0m_named_members\u001b[0m\u001b[0;34m(\u001b[0m\u001b[0mself\u001b[0m\u001b[0;34m,\u001b[0m \u001b[0mget_members_fn\u001b[0m\u001b[0;34m,\u001b[0m \u001b[0mprefix\u001b[0m\u001b[0;34m=\u001b[0m\u001b[0;34m''\u001b[0m\u001b[0;34m,\u001b[0m \u001b[0mrecurse\u001b[0m\u001b[0;34m=\u001b[0m\u001b[0;32mTrue\u001b[0m\u001b[0;34m)\u001b[0m\u001b[0;34m:\u001b[0m\u001b[0;34m\u001b[0m\u001b[0;34m\u001b[0m\u001b[0m\n",
            "\u001b[0;31mRuntimeError\u001b[0m: Error(s) in loading state_dict for CAE:\n\tWhile copying the parameter named \"encoder.0.weight\", whose dimensions in the model are torch.Size([128, 3, 4, 4]) and whose dimensions in the checkpoint are torch.Size([128, 3, 4, 4])."
          ]
        }
      ]
    },
    {
      "metadata": {
        "id": "xZJ1CTlrsezZ",
        "colab_type": "text"
      },
      "cell_type": "markdown",
      "source": [
        "### Test set images and reconstructions"
      ]
    },
    {
      "metadata": {
        "id": "ndQGAUIlsezc",
        "colab_type": "code",
        "colab": {
          "base_uri": "https://localhost:8080/",
          "height": 276
        },
        "outputId": "5e77d2eb-aedf-4c7e-a7d4-11b53c0bda65"
      },
      "cell_type": "code",
      "source": [
        "# load the model\n",
        "model.load_state_dict(torch.load('./CW/CAE/CAE_model.pth'))\n",
        "it = iter(loader_test)\n",
        "sample_inputs, _ = next(it)\n",
        "fixed_input = sample_inputs[0:32, :, :, :]\n",
        "\n",
        "# visualize the original images of the last batch of the test set\n",
        "img = make_grid(denorm(fixed_input), nrow=8, padding=2, normalize=False,\n",
        "                range=None, scale_each=False, pad_value=0)\n",
        "show(img)"
      ],
      "execution_count": 25,
      "outputs": [
        {
          "output_type": "display_data",
          "data": {
            "image/png": "[encoded data removed]",
            "text/plain": [
              "<Figure size 576x396 with 1 Axes>"
            ]
          },
          "metadata": {
            "tags": []
          }
        }
      ]
    },
    {
      "metadata": {
        "id": "tIdJu4UBsezf",
        "colab_type": "code",
        "colab": {
          "base_uri": "https://localhost:8080/",
          "height": 232
        },
        "outputId": "c01707f2-14b3-4890-9d78-16fa4d421a68"
      },
      "cell_type": "code",
      "source": [
        "with torch.no_grad():\n",
        "    # visualize the reconstructed images of the last batch of test set\n",
        "    recon_batch = model(fixed_input.to(device)).cpu()\n",
        "    recon_batch = make_grid(denorm(recon_batch), nrow=8, padding=2, normalize=False,\n",
        "                            range=None, scale_each=False, pad_value=0)\n",
        "    show(recon_batch)"
      ],
      "execution_count": 26,
      "outputs": [
        {
          "output_type": "error",
          "ename": "RuntimeError",
          "evalue": "ignored",
          "traceback": [
            "\u001b[0;31m---------------------------------------------------------------------------\u001b[0m",
            "\u001b[0;31mRuntimeError\u001b[0m                              Traceback (most recent call last)",
            "\u001b[0;32m<ipython-input-26-77f0d5de1b78>\u001b[0m in \u001b[0;36m<module>\u001b[0;34m()\u001b[0m\n\u001b[1;32m      1\u001b[0m \u001b[0;32mwith\u001b[0m \u001b[0mtorch\u001b[0m\u001b[0;34m.\u001b[0m\u001b[0mno_grad\u001b[0m\u001b[0;34m(\u001b[0m\u001b[0;34m)\u001b[0m\u001b[0;34m:\u001b[0m\u001b[0;34m\u001b[0m\u001b[0;34m\u001b[0m\u001b[0m\n\u001b[1;32m      2\u001b[0m     \u001b[0;31m# visualize the reconstructed images of the last batch of test set\u001b[0m\u001b[0;34m\u001b[0m\u001b[0;34m\u001b[0m\u001b[0;34m\u001b[0m\u001b[0m\n\u001b[0;32m----> 3\u001b[0;31m     \u001b[0mrecon_batch\u001b[0m \u001b[0;34m=\u001b[0m \u001b[0mmodel\u001b[0m\u001b[0;34m(\u001b[0m\u001b[0mfixed_input\u001b[0m\u001b[0;34m.\u001b[0m\u001b[0mto\u001b[0m\u001b[0;34m(\u001b[0m\u001b[0mdevice\u001b[0m\u001b[0;34m)\u001b[0m\u001b[0;34m)\u001b[0m\u001b[0;34m.\u001b[0m\u001b[0mcpu\u001b[0m\u001b[0;34m(\u001b[0m\u001b[0;34m)\u001b[0m\u001b[0;34m\u001b[0m\u001b[0;34m\u001b[0m\u001b[0m\n\u001b[0m\u001b[1;32m      4\u001b[0m     recon_batch = make_grid(denorm(recon_batch), nrow=8, padding=2, normalize=False,\n\u001b[1;32m      5\u001b[0m                             range=None, scale_each=False, pad_value=0)\n",
            "\u001b[0;31mRuntimeError\u001b[0m: CUDA error: invalid device ordinal"
          ]
        }
      ]
    },
    {
      "metadata": {
        "id": "ceWzyLfEsezh",
        "colab_type": "text"
      },
      "cell_type": "markdown",
      "source": [
        "### Part 1. 2 (20 points)\n",
        "**Your Task**: \n",
        "\n",
        "In this part of the exercise you will use your pretrained encoder as a feature extractor in order to solve a downstream task:\n",
        "* For every sample of your training set you will need to extract its latent representation by passing it through the encoder.\n",
        "* Create a classifier of your choice and train it with the extracted features in order to predict the class that each image belongs to. You can access the sample's classes as follows:\n",
        "\n",
        "`it = iter(loader_test)\n",
        "samples, classes = next(it)`\n",
        "* Use the encoder to encode all your test images into latent representations and then use your trained classifier to predict their classes\n",
        "* Print the accuracy of your model.\n",
        "\n",
        "The classifier can be trained with representations that do not yield very accurate reconstructions, so you can stop your training even if the reconstructed images are blurry. Also, note that you do not have to acheive high classification accuracy to get full marks for this question. Instead, focus on describing how you experimented in order to build your best classifier."
      ]
    },
    {
      "metadata": {
        "id": "02CAY3B0sezh",
        "colab_type": "code",
        "colab": {}
      },
      "cell_type": "code",
      "source": [
        "# *CODE FOR PART 1.2 IN THIS CELL*\n",
        "\n",
        "#######################################################################\n",
        "#                       ** START OF YOUR CODE **\n",
        "#######################################################################\n",
        "\n",
        "#######################################################################\n",
        "#                       ** END OF YOUR CODE **\n",
        "####################################################################### \n",
        "# name your accuracy variable as accuracy\n",
        "print('Classification accuracy: {:.4f}'.format(accuracy))"
      ],
      "execution_count": 0,
      "outputs": []
    },
    {
      "metadata": {
        "id": "chONGMvosezj",
        "colab_type": "code",
        "colab": {}
      },
      "cell_type": "code",
      "source": [
        ""
      ],
      "execution_count": 0,
      "outputs": []
    },
    {
      "metadata": {
        "id": "NtGJvf4Osezl",
        "colab_type": "text"
      },
      "cell_type": "markdown",
      "source": [
        "## Part 2 - Deep Convolutional GAN\n",
        "\n",
        "In this task, your main objective is to train a DCGAN (https://arxiv.org/abs/1511.06434) on the CIFAR-10 dataset. You should experiment with different architectures, tricks for stability in training (such as using different activation functions, batch normalization, different values for the hyper-parameters, etc.). In the end, you should provide us with: \n",
        "\n",
        "- your best trained model (which we will be able to run), \n",
        "- some generations for the fixed latent vectors $\\mathbf{z}\\sim \\mathcal{N}\\left(\\mathbf{0}, \\mathbf{I}\\right)$ we have provided you with (train for a number of epochs and make sure there is no mode collapse), \n",
        "- plos with the losses for the discriminator $D$ and the generator $G$ as the training progresses and explain whether your produced plots are theoretically sensible and why this is (or not) the case. \n",
        "- a discussion on whether you noticed any mode collapse, where this behaviour may be attributed to, and explain what you did in order to cope with mode collapse. \n",
        "\n",
        "_Clarification: You should not be worrying too much about getting an \"optimal\" performance on your trained GAN. We want you to demonstrate to us that you experimented with different types of DCGAN variations, report what difficulties transpired throughout the training process, etc. In other words, if we see that you provided us with a running implementation, that you detail different experimentations that you did before providing us with your best one, and that you have grapsed the concepts, you can still get full marks. The attached model does not have to be perfect._"
      ]
    },
    {
      "metadata": {
        "id": "SXh_r4Vlsezm",
        "colab_type": "text"
      },
      "cell_type": "markdown",
      "source": [
        "### Part 2.1 (30 points)\n",
        "**Your Task**: \n",
        "\n",
        "a. Implement the DCGAN architecture. Fill in the missing parts in the cells below in order to complete the Generator and Discriminator classes. You will need to define:\n",
        "\n",
        "- The hyperparameters\n",
        "- The constructors\n",
        "- `decode`\n",
        "- `discriminator`\n",
        "\n",
        "b. visualize images sampled from your best model's generator.\n",
        "\n",
        "c. Discuss the experimentations which led to your final architecture. You can plot losses or generated results by other architectures that you tested to back your arguments (but this is not necessary to get full marks).\n",
        "\n",
        "For b. the code is already given. Make sure that the version of the notebook you deliver includes these results. \n",
        "\n",
        "Recomendations for experimentation:\n",
        "- use the architecture that you implemented for the Autoencoder of Part 1 (encoder as discriminator, decoder as generator).\n",
        "- use the architecture desribed in the DCGAN paper (https://arxiv.org/abs/1511.06434).\n",
        "\n",
        "Some general reccomendations:\n",
        "- add several convolutional layers (3-4).\n",
        "- accelerate training with batch normalization after every convolutional layer.\n",
        "- use the appropriate activation functions. \n",
        "- Generator module: the upsampling can be done with various methods, such as nearest neighbor upsampling (`torch.nn.Upsample`) or transposed convolutions(`torch.nn.ConvTranspose2d`). \n",
        "- Discriminator module: Experiment with batch normalization (`torch.nn.BatchNorm2d`) and leaky relu (`torch.nn.LeakyReLu`) units after each convolutional layer.\n",
        "\n",
        "Try to follow the common practices for CNNs (e.g small receptive fields, max pooling, RELU activations), in order to narrow down your possible choices.\n",
        "\n",
        "The number of epochs that will be needed in order to train the network will vary depending on your choices. As an advice, we recommend that while experimenting you should allow around 20 epochs and if the loss doesn't sufficiently drop, restart the training with a more powerful architecture. You don't need to train the network to an extreme if you don't have the time."
      ]
    },
    {
      "metadata": {
        "id": "MUhfJ6dAsezn",
        "colab_type": "text"
      },
      "cell_type": "markdown",
      "source": [
        "### Hyper-parameter selection"
      ]
    },
    {
      "metadata": {
        "id": "g9xprrw1sezo",
        "colab_type": "code",
        "colab": {}
      },
      "cell_type": "code",
      "source": [
        "# *CODE FOR PART 2.1 IN THIS CELL*\n",
        "\n",
        "### Choose the number of epoch, the learning rate\n",
        "#   and the size of the Generator's input noise vetor.\n",
        "num_epochs = None\n",
        "learning_rate  = None\n",
        "latent_vector_size = None\n",
        "###\n",
        "\n",
        "# Define here other hyperparameters that you used.\n"
      ],
      "execution_count": 0,
      "outputs": []
    },
    {
      "metadata": {
        "id": "PjXw91HRsezq",
        "colab_type": "code",
        "colab": {}
      },
      "cell_type": "code",
      "source": [
        "# *CODE FOR PART 2.1 IN THIS CELL*\n",
        "\n",
        "\n",
        "class Generator(nn.Module):\n",
        "    def __init__(self):\n",
        "        super(Generator, self).__init__()\n",
        "        #######################################################################\n",
        "        #                       ** START OF YOUR CODE **\n",
        "        #######################################################################\n",
        "\n",
        "        #######################################################################\n",
        "        #                       ** END OF YOUR CODE **\n",
        "        ####################################################################### \n",
        "\n",
        "    def decode(self, z):\n",
        "        #######################################################################\n",
        "        #                       ** START OF YOUR CODE **\n",
        "        #######################################################################\n",
        "\n",
        "        #######################################################################\n",
        "        #                       ** END OF YOUR CODE **\n",
        "        ####################################################################### \n",
        "        return x\n",
        "\n",
        "    def forward(self, z):\n",
        "        return self.decode(z)\n",
        "\n",
        "\n",
        "class Discriminator(nn.Module):\n",
        "    def __init__(self):\n",
        "        super(Discriminator, self).__init__()\n",
        "        #######################################################################\n",
        "        #                       ** START OF YOUR CODE **\n",
        "        #######################################################################\n",
        "\n",
        "        #######################################################################\n",
        "        #                       ** END OF YOUR CODE **\n",
        "        ####################################################################### \n",
        "        \n",
        "    def discriminator(self, x):\n",
        "        #######################################################################\n",
        "        #                       ** START OF YOUR CODE **\n",
        "        #######################################################################\n",
        "\n",
        "        #######################################################################\n",
        "        #                       ** END OF YOUR CODE **\n",
        "        ####################################################################### \n",
        "        \n",
        "        return out\n",
        "\n",
        "    def forward(self, x):\n",
        "        out = self.discriminator(x)\n",
        "        return outs.view(-1, 1).squeeze(1)"
      ],
      "execution_count": 0,
      "outputs": []
    },
    {
      "metadata": {
        "id": "KTRlXgPrsezs",
        "colab_type": "text"
      },
      "cell_type": "markdown",
      "source": [
        "### Initialize Model and print number of parameters"
      ]
    },
    {
      "metadata": {
        "id": "RXZokgy_sezt",
        "colab_type": "text"
      },
      "cell_type": "markdown",
      "source": [
        "You can use method `weights_init` to initialize the weights of the Generator and Discriminator networks. Otherwise, implement your own initialization, or do not use at all. You will not be penalized for not using initialization."
      ]
    },
    {
      "metadata": {
        "id": "5wLwvmgpsezt",
        "colab_type": "code",
        "colab": {}
      },
      "cell_type": "code",
      "source": [
        "# custom weights initialization called on netG and netD\n",
        "def weights_init(m):\n",
        "    classname = m.__class__.__name__\n",
        "    if classname.find('Conv') != -1:\n",
        "        m.weight.data.normal_(0.0, 0.02)\n",
        "    elif classname.find('BatchNorm') != -1:\n",
        "        m.weight.data.normal_(1.0, 0.02)\n",
        "        m.bias.data.fill_(0)"
      ],
      "execution_count": 0,
      "outputs": []
    },
    {
      "metadata": {
        "id": "esw2ByoSsezv",
        "colab_type": "code",
        "colab": {}
      },
      "cell_type": "code",
      "source": [
        "use_weights_init = True\n",
        "\n",
        "model_G = Generator().to(device)\n",
        "if use_weights_init:\n",
        "    model_G.apply(weights_init)\n",
        "params_G = sum(p.numel() for p in model_G.parameters() if p.requires_grad)\n",
        "print(\"Total number of parameters in Generator is: {}\".format(params_G))\n",
        "print(model_G)\n",
        "print('\\n')\n",
        "\n",
        "model_D = Discriminator().to(device)\n",
        "if use_weights_init:\n",
        "    model_D.apply(weights_init)\n",
        "params_D = sum(p.numel() for p in model_D.parameters() if p.requires_grad)\n",
        "print(\"Total number of parameters in Discriminator is: {}\".format(params_D))\n",
        "print(model_D)\n",
        "print('\\n')\n",
        "\n",
        "print(\"Total number of parameters is: {}\".format(params_G + params_D))"
      ],
      "execution_count": 0,
      "outputs": []
    },
    {
      "metadata": {
        "id": "PMauYSmxsezw",
        "colab_type": "text"
      },
      "cell_type": "markdown",
      "source": [
        "### Define loss function"
      ]
    },
    {
      "metadata": {
        "id": "2a5Kjl0Isezx",
        "colab_type": "code",
        "colab": {}
      },
      "cell_type": "code",
      "source": [
        "criterion = nn.BCELoss(reduction='mean')\n",
        "def loss_function(out, label):\n",
        "    loss = criterion(out, label)\n",
        "    return loss"
      ],
      "execution_count": 0,
      "outputs": []
    },
    {
      "metadata": {
        "id": "-AvYlNWQsezy",
        "colab_type": "text"
      },
      "cell_type": "markdown",
      "source": [
        "### Choose and initialize optimizers"
      ]
    },
    {
      "metadata": {
        "id": "7B0V-_gesez1",
        "colab_type": "code",
        "colab": {}
      },
      "cell_type": "code",
      "source": [
        "# setup optimizer\n",
        "# You are free to add a scheduler or change the optimizer if you want. We chose one for you for simplicity.\n",
        "beta1 = 0.5\n",
        "optimizerD = torch,optim.Adam(model_D.parameters(), lr=learning_rate, betas=(beta1, 0.999))\n",
        "optimizerG = torch.optim.Adam(model_G.parameters(), lr=learning_rate, betas=(beta1, 0.999))"
      ],
      "execution_count": 0,
      "outputs": []
    },
    {
      "metadata": {
        "id": "6C33P_oTsez2",
        "colab_type": "text"
      },
      "cell_type": "markdown",
      "source": [
        "### Define fixed input vectors to monitor training and mode collapse."
      ]
    },
    {
      "metadata": {
        "id": "mCG0mGX9sez3",
        "colab_type": "code",
        "colab": {}
      },
      "cell_type": "code",
      "source": [
        "fixed_noise = torch.randn(batch_size, latent_vector_size, 1, 1, device=device)\n",
        "real_label = 1\n",
        "fake_label = 0"
      ],
      "execution_count": 0,
      "outputs": []
    },
    {
      "metadata": {
        "id": "5zXIlnVpsez4",
        "colab_type": "text"
      },
      "cell_type": "markdown",
      "source": [
        "### Train"
      ]
    },
    {
      "metadata": {
        "id": "T2TKhMIHsez4",
        "colab_type": "code",
        "colab": {}
      },
      "cell_type": "code",
      "source": [
        "export_folder = './CW/DCGAN'\n",
        "train_losses_G = []\n",
        "train_losses_D = []\n",
        "\n",
        "for epoch in range(num_epochs):\n",
        "    for i, data in enumerate(loader_train, 0):\n",
        "        train_loss_D = 0\n",
        "        train_loss_G = 0\n",
        "        \n",
        "        ############################\n",
        "        # (1) Update D network: maximize log(D(x)) + log(1 - D(G(z)))\n",
        "        ###########################\n",
        "        # train with real\n",
        "        model_D.zero_grad()\n",
        "        real_cpu = data[0].to(device)\n",
        "        batch_size = real_cpu.size(0)\n",
        "        label = torch.full((batch_size,), real_label, device=device)\n",
        "\n",
        "        output = model_D(real_cpu)\n",
        "        errD_real = loss_function(output, label)\n",
        "        errD_real.backward()\n",
        "        D_x = output.mean().item()\n",
        "\n",
        "        # train with fake\n",
        "        noise = torch.randn(batch_size, latent_vector_size, 1, 1, device=device)\n",
        "        fake = model_G(noise)\n",
        "        label.fill_(fake_label)\n",
        "        output = model_D(fake.detach())\n",
        "        errD_fake = loss_function(output, label)\n",
        "        errD_fake.backward()\n",
        "        D_G_z1 = output.mean().item()\n",
        "        errD = errD_real + errD_fake\n",
        "        train_loss_D += errD.item()\n",
        "        optimizerD.step()\n",
        "\n",
        "        ############################\n",
        "        # (2) Update G network: maximize log(D(G(z)))\n",
        "        ###########################\n",
        "        model_G.zero_grad()\n",
        "        label.fill_(real_label)  # fake labels are real for generator cost\n",
        "        output = model_D(fake)\n",
        "        errG = loss_function(output, label)\n",
        "        errG.backward()\n",
        "        D_G_z2 = output.mean().item()\n",
        "        train_loss_G += errG.item()\n",
        "        optimizerG.step()\n",
        "\n",
        "        print('[%d/%d][%d/%d] Loss_D: %.4f Loss_G: %.4f D(x): %.4f D(G(z)): %.4f / %.4f'\n",
        "              % (epoch, num_epochs, i, len(loader_train),\n",
        "                 errD.item(), errG.item(), D_x, D_G_z1, D_G_z2))\n",
        "\n",
        "    if epoch == 0:\n",
        "        save_image(denorm(real_cpu.cpu()), './CW/DCGAN/real_samples.png')\n",
        "    \n",
        "    fake = model_G(fixed_noise)\n",
        "    save_image(denorm(fake.cpu()), './CW/DCGAN/fake_samples_epoch_%03d.png' % epoch)\n",
        "    train_losses_D.append(train_loss_D / len(loader_train))\n",
        "    train_losses_G.append(train_loss_G / len(loader_train))\n",
        "            \n",
        "# save losses and models\n",
        "np.save(np.array(train_losses_D),'./CW/DCGAN/train_losses_D.npy')\n",
        "np.save(np.array(train_losses_G),'./CW/DCGAN/train_losses_G.npy')\n",
        "torch.save(model_G.state_dict(), './CW/DCGAN/DCGAN_model_G.pth')\n",
        "torch.save(model_D.state_dict(), './CW/DCGAN/DCGAN_model_D.pth')"
      ],
      "execution_count": 0,
      "outputs": []
    },
    {
      "metadata": {
        "id": "oLt0ve7Nsez5",
        "colab_type": "code",
        "colab": {}
      },
      "cell_type": "code",
      "source": [
        "# DISCUSS THE SELECTION OF THE ARCHITECTURE IN THIS CELL*\n"
      ],
      "execution_count": 0,
      "outputs": []
    },
    {
      "metadata": {
        "id": "CnuFHZo_sez6",
        "colab_type": "text"
      },
      "cell_type": "markdown",
      "source": [
        "### Generator samples"
      ]
    },
    {
      "metadata": {
        "id": "AtADucUCsez7",
        "colab_type": "code",
        "colab": {}
      },
      "cell_type": "code",
      "source": [
        "it = iter(loader_test)\n",
        "sample_inputs, _ = next(it)\n",
        "fixed_input = sample_inputs[0:32, :, :, :]\n",
        "\n",
        "# visualize the original images of the last batch of the test set\n",
        "img = make_grid(denorm(fixed_input), nrow=4, padding=2, normalize=False,\n",
        "                range=None, scale_each=False, pad_value=0)\n",
        "show(img)"
      ],
      "execution_count": 0,
      "outputs": []
    },
    {
      "metadata": {
        "id": "SyX5HMnmsez8",
        "colab_type": "code",
        "colab": {}
      },
      "cell_type": "code",
      "source": [
        "# load the model\n",
        "model_G.load_state_dict(torch.load('./CW/DCGAN/DCGAN_model_G.pth'))\n",
        "input_noise = torch.randn(batch_size, latent_vector_size, 1, 1, device=device)\n",
        "\n",
        "with torch.no_grad():\n",
        "    # visualize the generated images\n",
        "    generated = model_G(input_noise).cpu()\n",
        "    generated = make_grid(denorm(generated)[:32], nrow=8, padding=2, normalize=False, \n",
        "                        range=None, scale_each=False, pad_value=0)\n",
        "    show(generated)"
      ],
      "execution_count": 0,
      "outputs": []
    },
    {
      "metadata": {
        "id": "NSPQhBGQsez9",
        "colab_type": "text"
      },
      "cell_type": "markdown",
      "source": [
        "### Part 2.2 (10 points)"
      ]
    },
    {
      "metadata": {
        "id": "Twxqv0dKsez9",
        "colab_type": "text"
      },
      "cell_type": "markdown",
      "source": [
        "### Train losses curves\n",
        "**Your task:**\n",
        "\n",
        "\n",
        "Plot the losses curves for the discriminator $D$ and the generator $G$ as the training progresses and explain whether the produced curves are theoretically sensible and why this is (or not) the case (x-axis: epochs, y-axis: loss).\n",
        "\n",
        "The code for generating the plot is already given. Make sure that the version of the notebook you deliver includes these results."
      ]
    },
    {
      "metadata": {
        "id": "LQXX8Eo4sez-",
        "colab_type": "code",
        "colab": {}
      },
      "cell_type": "code",
      "source": [
        "import matplotlib.pyplot as plt\n",
        "train_losses_D = np.load('./CW/DCGAN/train_losses_D.npy')\n",
        "train_losses_G = np.load('./CW/DCGAN/train_losses_G.npy')\n",
        "plt.plot(list(range(0,train_losses_D.shape[0])), train_losses_D, label='loss_D')\n",
        "plt.plot(list(range(0,train_losses_G.shape[0])), train_losses_G, label='loss_G')\n",
        "plt.legend()\n",
        "plt.title('Train Losses')\n",
        "plt.show()"
      ],
      "execution_count": 0,
      "outputs": []
    },
    {
      "metadata": {
        "id": "pCGHYhtgsez_",
        "colab_type": "code",
        "colab": {}
      },
      "cell_type": "code",
      "source": [
        "# ANSWER FOR PART 2.2 IN THIS CELL*\n"
      ],
      "execution_count": 0,
      "outputs": []
    },
    {
      "metadata": {
        "id": "ITri97KUse0A",
        "colab_type": "text"
      },
      "cell_type": "markdown",
      "source": [
        "### Part 2.3 (10 points) \n",
        "**Your task:** \n",
        "\n",
        "Based on the images created by your generator using the `fixed_noise` vector during training, provide a discussion on whether you noticed any mode collapse, where this behaviour may be attributed to, and explain what you did in order to cope with mode collapse."
      ]
    },
    {
      "metadata": {
        "id": "0PlXxHNgse0A",
        "colab_type": "code",
        "colab": {}
      },
      "cell_type": "code",
      "source": [
        "# ANSWER FOR PART 2.3 IN THIS CELL*\n"
      ],
      "execution_count": 0,
      "outputs": []
    }
  ]
}